{
 "cells": [
  {
   "cell_type": "code",
   "execution_count": 3,
   "id": "3cb8c5a7-25d7-44e4-b555-8de906c814ae",
   "metadata": {
    "execution": {
     "iopub.execute_input": "2025-09-04T21:07:26.409248Z",
     "iopub.status.busy": "2025-09-04T21:07:26.408707Z",
     "iopub.status.idle": "2025-09-04T21:13:21.659810Z",
     "shell.execute_reply": "2025-09-04T21:13:21.658758Z",
     "shell.execute_reply.started": "2025-09-04T21:07:26.409196Z"
    }
   },
   "outputs": [
    {
     "name": "stdout",
     "output_type": "stream",
     "text": [
      "✅ Organized CSV saved as organized.csv\n"
     ]
    }
   ],
   "source": [
    "import pandas as pd\n",
    "\n",
    "# === 1. Load the original CSV ===\n",
    "input_file = \"Dataset_WFI.csv\"   # <-- change to your filename\n",
    "output_file = \"organized.csv\"\n",
    "\n",
    "df = pd.read_csv(input_file, low_memory=False)\n",
    "import pandas as pd\n",
    "\n",
    "\n",
    "# === 2. Prefix mapping ===\n",
    "prefix_map = {\n",
    "    \"a\": \"Blue\",\n",
    "    \"b\": \"Green\",\n",
    "    \"c\": \"Red\",\n",
    "    \"d\": \"NIR\",\n",
    "    \"e\": \"BAI\",\n",
    "    \"f\": \"EVI\",\n",
    "    \"g\": \"GEMI\",\n",
    "    \"h\": \"NDVI\",\n",
    "    \"i\": \"NDWI\"\n",
    "}\n",
    "\n",
    "id_col = \"id\"\n",
    "\n",
    "# Detect label columns (assuming they’re named like label_2020, label_2021, label_2022)\n",
    "label_cols = [c for c in df.columns if \"label\" in c]\n",
    "\n",
    "# === 3. Build new dataframe ===\n",
    "df_lists = pd.DataFrame()\n",
    "df_lists[id_col] = df[id_col]\n",
    "\n",
    "# Keep labels\n",
    "for col in label_cols:\n",
    "    df_lists[col] = df[col]\n",
    "\n",
    "# Build band lists\n",
    "for prefix, name in prefix_map.items():\n",
    "    cols = [c for c in df.columns if c.startswith(prefix + \"_\")]\n",
    "    df_lists[name] = df[cols].values.tolist()\n",
    "\n",
    "# Dates (just take from column names of one band, since all bands share same suffix)\n",
    "date_cols = [c.split(\"_\")[1] for c in df.columns if c.startswith(\"a_\")]\n",
    "df_lists[\"Dates\"] = [date_cols] * len(df)  # same for all rows\n",
    "\n",
    "# === 4. Save to CSV ===\n",
    "df_lists.to_csv(output_file, index=False)\n",
    "\n",
    "print(f\"✅ Organized CSV saved as {output_file}\")\n",
    "\n"
   ]
  },
  {
   "cell_type": "code",
   "execution_count": 4,
   "id": "5419e4e5-dac7-4eec-93ea-64ae1b181685",
   "metadata": {
    "execution": {
     "iopub.execute_input": "2025-09-04T21:15:55.120860Z",
     "iopub.status.busy": "2025-09-04T21:15:55.120531Z",
     "iopub.status.idle": "2025-09-04T21:16:18.103943Z",
     "shell.execute_reply": "2025-09-04T21:16:18.103023Z",
     "shell.execute_reply.started": "2025-09-04T21:15:55.120837Z"
    }
   },
   "outputs": [
    {
     "data": {
      "text/html": [
       "<div>\n",
       "<style scoped>\n",
       "    .dataframe tbody tr th:only-of-type {\n",
       "        vertical-align: middle;\n",
       "    }\n",
       "\n",
       "    .dataframe tbody tr th {\n",
       "        vertical-align: top;\n",
       "    }\n",
       "\n",
       "    .dataframe thead th {\n",
       "        text-align: right;\n",
       "    }\n",
       "</style>\n",
       "<table border=\"1\" class=\"dataframe\">\n",
       "  <thead>\n",
       "    <tr style=\"text-align: right;\">\n",
       "      <th></th>\n",
       "      <th>id</th>\n",
       "      <th>20_labels</th>\n",
       "      <th>21_labels</th>\n",
       "      <th>22_labels</th>\n",
       "      <th>Blue</th>\n",
       "      <th>Green</th>\n",
       "      <th>Red</th>\n",
       "      <th>NIR</th>\n",
       "      <th>BAI</th>\n",
       "      <th>EVI</th>\n",
       "      <th>GEMI</th>\n",
       "      <th>NDVI</th>\n",
       "      <th>NDWI</th>\n",
       "      <th>Dates</th>\n",
       "    </tr>\n",
       "  </thead>\n",
       "  <tbody>\n",
       "    <tr>\n",
       "      <th>0</th>\n",
       "      <td>1</td>\n",
       "      <td>nb</td>\n",
       "      <td>nb</td>\n",
       "      <td>nb</td>\n",
       "      <td>[0.057, 0.057, 0.057, 0.057, 0.057, 0.057, 0.0...</td>\n",
       "      <td>[0.055, 0.055, 0.055, 0.055, 0.055, 0.055, 0.0...</td>\n",
       "      <td>[0.043, 0.043, 0.043, 0.043, 0.043, 0.043, 0.0...</td>\n",
       "      <td>[0.093, 0.093, 0.093, 0.093, 0.093, 0.093, 0.0...</td>\n",
       "      <td>[2.288, 2.288, 2.288, 2.288, 2.288, 2.288, 2.2...</td>\n",
       "      <td>[0.136, 0.136, 0.136, 0.136, 0.136, 0.136, 0.1...</td>\n",
       "      <td>[0.514, 0.514, 0.514, 0.514, 0.514, 0.514, 0.5...</td>\n",
       "      <td>[0.371, 0.371, 0.371, 0.371, 0.371, 0.371, 0.3...</td>\n",
       "      <td>[0.256, 0.256, 0.256, 0.256, 0.256, 0.256, 0.2...</td>\n",
       "      <td>['200101', '200102', '200103', '200104', '2001...</td>\n",
       "    </tr>\n",
       "  </tbody>\n",
       "</table>\n",
       "</div>"
      ],
      "text/plain": [
       "   id 20_labels 21_labels 22_labels  \\\n",
       "0   1        nb        nb        nb   \n",
       "\n",
       "                                                Blue  \\\n",
       "0  [0.057, 0.057, 0.057, 0.057, 0.057, 0.057, 0.0...   \n",
       "\n",
       "                                               Green  \\\n",
       "0  [0.055, 0.055, 0.055, 0.055, 0.055, 0.055, 0.0...   \n",
       "\n",
       "                                                 Red  \\\n",
       "0  [0.043, 0.043, 0.043, 0.043, 0.043, 0.043, 0.0...   \n",
       "\n",
       "                                                 NIR  \\\n",
       "0  [0.093, 0.093, 0.093, 0.093, 0.093, 0.093, 0.0...   \n",
       "\n",
       "                                                 BAI  \\\n",
       "0  [2.288, 2.288, 2.288, 2.288, 2.288, 2.288, 2.2...   \n",
       "\n",
       "                                                 EVI  \\\n",
       "0  [0.136, 0.136, 0.136, 0.136, 0.136, 0.136, 0.1...   \n",
       "\n",
       "                                                GEMI  \\\n",
       "0  [0.514, 0.514, 0.514, 0.514, 0.514, 0.514, 0.5...   \n",
       "\n",
       "                                                NDVI  \\\n",
       "0  [0.371, 0.371, 0.371, 0.371, 0.371, 0.371, 0.3...   \n",
       "\n",
       "                                                NDWI  \\\n",
       "0  [0.256, 0.256, 0.256, 0.256, 0.256, 0.256, 0.2...   \n",
       "\n",
       "                                               Dates  \n",
       "0  ['200101', '200102', '200103', '200104', '2001...  "
      ]
     },
     "execution_count": 4,
     "metadata": {},
     "output_type": "execute_result"
    }
   ],
   "source": [
    "df2 = pd.read_csv(\"organized.csv\", low_memory=False)\n",
    "df2.head(1)"
   ]
  },
  {
   "cell_type": "code",
   "execution_count": 5,
   "id": "ccc05987-753a-492f-bf0d-98df751e44cd",
   "metadata": {
    "execution": {
     "iopub.execute_input": "2025-09-04T21:16:18.105347Z",
     "iopub.status.busy": "2025-09-04T21:16:18.104986Z",
     "iopub.status.idle": "2025-09-04T21:16:18.110800Z",
     "shell.execute_reply": "2025-09-04T21:16:18.109917Z",
     "shell.execute_reply.started": "2025-09-04T21:16:18.105320Z"
    }
   },
   "outputs": [
    {
     "data": {
      "text/plain": [
       "Index(['id', '20_labels', '21_labels', '22_labels', 'Blue', 'Green', 'Red',\n",
       "       'NIR', 'BAI', 'EVI', 'GEMI', 'NDVI', 'NDWI', 'Dates'],\n",
       "      dtype='object')"
      ]
     },
     "execution_count": 5,
     "metadata": {},
     "output_type": "execute_result"
    }
   ],
   "source": [
    "df2.columns"
   ]
  },
  {
   "cell_type": "code",
   "execution_count": null,
   "id": "c3d78f98-9b41-44c2-8305-a1f7b7c92be5",
   "metadata": {},
   "outputs": [],
   "source": []
  }
 ],
 "metadata": {
  "kernelspec": {
   "display_name": "Python (Geospatial)",
   "language": "python",
   "name": "geospatial"
  },
  "language_info": {
   "codemirror_mode": {
    "name": "ipython",
    "version": 3
   },
   "file_extension": ".py",
   "mimetype": "text/x-python",
   "name": "python",
   "nbconvert_exporter": "python",
   "pygments_lexer": "ipython3",
   "version": "3.11.13"
  }
 },
 "nbformat": 4,
 "nbformat_minor": 5
}
