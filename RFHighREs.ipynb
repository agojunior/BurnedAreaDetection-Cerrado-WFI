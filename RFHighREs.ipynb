{
 "cells": [
  {
   "cell_type": "code",
   "execution_count": 1,
   "id": "c10cc5ed-360c-4429-9851-5b5c96a44549",
   "metadata": {
    "execution": {
     "iopub.execute_input": "2025-10-28T04:14:43.134644Z",
     "iopub.status.busy": "2025-10-28T04:14:43.134351Z",
     "iopub.status.idle": "2025-10-28T04:19:31.771415Z",
     "shell.execute_reply": "2025-10-28T04:19:31.770706Z",
     "shell.execute_reply.started": "2025-10-28T04:14:43.134601Z"
    }
   },
   "outputs": [
    {
     "name": "stderr",
     "output_type": "stream",
     "text": [
      "/tmp/ipykernel_22759/3490313557.py:12: FutureWarning: Downcasting behavior in `replace` is deprecated and will be removed in a future version. To retain the old behavior, explicitly call `result.infer_objects(copy=False)`. To opt-in to the future behavior, set `pd.set_option('future.no_silent_downcasting', True)`\n",
      "  y = df[\"22_labels\"].replace({\"nb\":0, \"tb\":1}).astype(int).values\n"
     ]
    },
    {
     "name": "stdout",
     "output_type": "stream",
     "text": [
      "Accuracy: 0.9896691330448136\n",
      "              precision    recall  f1-score   support\n",
      "\n",
      "           0     0.9899    0.9993    0.9945      6747\n",
      "           1     0.9858    0.8341    0.9036       416\n",
      "\n",
      "    accuracy                         0.9897      7163\n",
      "   macro avg     0.9878    0.9167    0.9491      7163\n",
      "weighted avg     0.9896    0.9897    0.9893      7163\n",
      "\n"
     ]
    }
   ],
   "source": [
    "# Train a quick RF on high-res organized file\n",
    "import pandas as pd, numpy as np, ast\n",
    "from sklearn.model_selection import train_test_split\n",
    "from sklearn.ensemble import RandomForestClassifier\n",
    "from sklearn.metrics import classification_report, accuracy_score\n",
    "\n",
    "df = pd.read_csv(\"organized_highres.csv\")\n",
    "for c in [\"Blue\",\"Green\",\"Red\",\"NIR\",\"BAI\",\"EVI\",\"GEMI\",\"NDVI\",\"NDWI\",\"Dates\"]:\n",
    "    df[c] = df[c].apply(ast.literal_eval)\n",
    "\n",
    "# binary labels: nb=0, tb=1\n",
    "y = df[\"22_labels\"].replace({\"nb\":0, \"tb\":1}).astype(int).values\n",
    "\n",
    "bands = [\"Blue\",\"Green\",\"Red\",\"NIR\",\"BAI\",\"EVI\",\"GEMI\",\"NDVI\",\"NDWI\"]\n",
    "X = []\n",
    "for _, row in df.iterrows():\n",
    "    feat = []\n",
    "    for b in bands: feat.extend(row[b])\n",
    "    X.append(feat)\n",
    "X = np.array(X)\n",
    "\n",
    "Xtr, Xte, ytr, yte = train_test_split(X, y, test_size=0.2, random_state=42, stratify=y)\n",
    "rf = RandomForestClassifier(n_estimators=300, n_jobs=-1, random_state=42, class_weight=\"balanced\")\n",
    "rf.fit(Xtr, ytr)\n",
    "yp = rf.predict(Xte)\n",
    "print(\"Accuracy:\", accuracy_score(yte, yp))\n",
    "print(classification_report(yte, yp, digits=4))\n"
   ]
  },
  {
   "cell_type": "code",
   "execution_count": null,
   "id": "1b29c80b-eb1a-4a82-b5a4-c49dedf04161",
   "metadata": {},
   "outputs": [],
   "source": []
  }
 ],
 "metadata": {
  "kernelspec": {
   "display_name": "Python (Geospatial)",
   "language": "python",
   "name": "geospatial"
  },
  "language_info": {
   "codemirror_mode": {
    "name": "ipython",
    "version": 3
   },
   "file_extension": ".py",
   "mimetype": "text/x-python",
   "name": "python",
   "nbconvert_exporter": "python",
   "pygments_lexer": "ipython3",
   "version": "3.11.13"
  }
 },
 "nbformat": 4,
 "nbformat_minor": 5
}
